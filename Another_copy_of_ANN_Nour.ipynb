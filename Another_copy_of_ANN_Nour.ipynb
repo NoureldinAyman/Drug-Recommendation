{
  "nbformat": 4,
  "nbformat_minor": 0,
  "metadata": {
    "colab": {
      "provenance": [],
      "toc_visible": true,
      "include_colab_link": true
    },
    "kernelspec": {
      "name": "python3",
      "display_name": "Python 3"
    },
    "language_info": {
      "name": "python"
    }
  },
  "cells": [
    {
      "cell_type": "markdown",
      "metadata": {
        "id": "view-in-github",
        "colab_type": "text"
      },
      "source": [
        "<a href=\"https://colab.research.google.com/github/NoureldinAyman/Drug-Recommendation/blob/nour/Another_copy_of_ANN_Nour.ipynb\" target=\"_parent\"><img src=\"https://colab.research.google.com/assets/colab-badge.svg\" alt=\"Open In Colab\"/></a>"
      ]
    },
    {
      "cell_type": "markdown",
      "source": [
        "# Personalized Drug Recommendation"
      ],
      "metadata": {
        "id": "q3qoK9RAwghz"
      }
    },
    {
      "cell_type": "markdown",
      "source": [
        "## Dataset\n",
        "The dataset is MIMIC-IV\n",
        "\n",
        "\n",
        "It is separated into 4 modules:\n",
        "- [hosp](https://mimic.mit.edu/docs/iv/modules/hosp) - hospital level data for patients: labs, micro, and electronic medication administration\n",
        "- [icu](https://mimic.mit.edu/docs/iv/modules/icu) - ICU level data. These are the event tables, and are identical in structure to MIMIC-III (chartevents, etc)\n",
        "- [ed](https://mimic.mit.edu/docs/iv/modules/ed) - data from the emergency department\n",
        "- [note](https://mimic.mit.edu/docs/iv/modules/note) - deidentified free-text clinical notes"
      ],
      "metadata": {
        "id": "Nd7lFVpkwpTV"
      }
    },
    {
      "cell_type": "markdown",
      "source": [
        "Since I'll only be working on tabular data, I will exclude `note`."
      ],
      "metadata": {
        "id": "Te_C9MKip2mZ"
      }
    },
    {
      "cell_type": "markdown",
      "source": [
        "## Data preprocessing\n"
      ],
      "metadata": {
        "id": "pI3cZICFttJo"
      }
    },
    {
      "cell_type": "code",
      "source": [
        "import numpy as np\n",
        "import matplotlib.pyplot as plt\n",
        "import pandas as pd"
      ],
      "metadata": {
        "id": "7LHpkE_Nt8DX"
      },
      "execution_count": 11,
      "outputs": []
    },
    {
      "cell_type": "code",
      "source": [
        "from google.colab import drive\n",
        "drive.mount('/content/drive')"
      ],
      "metadata": {
        "colab": {
          "base_uri": "https://localhost:8080/"
        },
        "id": "54vS8TARt_Kj",
        "outputId": "90f72aba-8932-4b33-d245-f20712298914"
      },
      "execution_count": 12,
      "outputs": [
        {
          "output_type": "stream",
          "name": "stdout",
          "text": [
            "Drive already mounted at /content/drive; to attempt to forcibly remount, call drive.mount(\"/content/drive\", force_remount=True).\n"
          ]
        }
      ]
    },
    {
      "cell_type": "markdown",
      "source": [
        "Setting the seed for reproducibility"
      ],
      "metadata": {
        "id": "qDBsGnFVvk6i"
      }
    },
    {
      "cell_type": "code",
      "source": [
        "np.random.seed(42)\n",
        "sample_frac = 0.10"
      ],
      "metadata": {
        "id": "E1gkj2M5uGd5"
      },
      "execution_count": 13,
      "outputs": []
    },
    {
      "cell_type": "markdown",
      "source": [
        "Tables used:\n",
        "1. omr table\n",
        "  - The Online Medical Record (OMR) table contains miscellaneous information from the EHR.\n",
        "2. admissions table\n",
        "\t- Detailed information about hospital stays.\n",
        "3. d_labitems\n",
        "\t- Dimension table for labevents provides a description of all lab items.\n",
        "4. diagnoses_icd\n",
        "\t- Billed ICD-9/ICD-10 diagnoses for hospitalizations.\n",
        "5. labevents\n",
        "\t- Laboratory measurements sourced from patient derived specimens.\n",
        "6. microbiologyevents\n",
        "\t- Microbiology cultures.\n",
        "7. patients table\n",
        "\t- Patients' gender, age, and date of death if information exists.\n",
        "8. prescriptions\n",
        "\t- Prescribed medications."
      ],
      "metadata": {
        "id": "gMpmuRZzUzYl"
      }
    },
    {
      "cell_type": "markdown",
      "source": [
        "### Loading datasets"
      ],
      "metadata": {
        "id": "5F4eW4emVQW5"
      }
    },
    {
      "cell_type": "code",
      "source": [
        "# Load datasets with relevant columns\n",
        "admissions = pd.read_csv(\"/content/drive/MyDrive/Data/hosp/admissions.csv.gz\",\n",
        "                         compression=\"gzip\",\n",
        "                         usecols=[\"subject_id\", \"hadm_id\", \"admittime\", \"admission_type\",\n",
        "                                  \"admission_location\", \"insurance\", \"language\", \"marital_status\", \"race\"],\n",
        "                         nrows=100)\n",
        "\n",
        "patients = pd.read_csv(\"/content/drive/MyDrive/Data/hosp/patients.csv.gz\",\n",
        "                       compression=\"gzip\",\n",
        "                       usecols=[\"subject_id\", \"gender\", \"anchor_age\"],\n",
        "                       nrows=100)\n",
        "\n",
        "omr = pd.read_csv(\"/content/drive/MyDrive/Data/hosp/omr.csv.gz\",\n",
        "                  compression=\"gzip\",\n",
        "                  usecols=[\"subject_id\", \"chartdate\", \"seq_num\", \"result_name\", \"result_value\"],\n",
        "                  nrows=100)\n",
        "\n",
        "labevents = pd.read_csv(\"/content/drive/MyDrive/Data/hosp/labevents.csv.gz\",\n",
        "                        compression=\"gzip\",\n",
        "                        usecols=[\"subject_id\", \"hadm_id\", \"itemid\", \"charttime\", \"valuenum\", \"valueuom\", \"flag\"],\n",
        "                        nrows=100)\n",
        "\n",
        "# d_labitems = pd.read_csv(\"/content/drive/MyDrive/Data/hosp/d_labitems.csv.gz\",\n",
        "#                          compression=\"gzip\",\n",
        "#                          usecols=[\"itemid\", \"label\"])\n",
        "\n",
        "microbiologyevents = pd.read_csv(\"/content/drive/MyDrive/Data/hosp/microbiologyevents.csv.gz\",\n",
        "                                 compression=\"gzip\",\n",
        "                                 usecols=[\"subject_id\", \"hadm_id\", \"charttime\", \"spec_type_desc\", \"org_name\"],\n",
        "                                 nrows=100)\n",
        "\n",
        "diagnoses_icd = pd.read_csv(\"/content/drive/MyDrive/Data/hosp/diagnoses_icd.csv.gz\",\n",
        "                            compression=\"gzip\",\n",
        "                            usecols=[\"subject_id\", \"hadm_id\", \"icd_code\", \"icd_version\"],\n",
        "                            nrows=100)\n",
        "\n",
        "prescriptions = pd.read_csv(\"/content/drive/MyDrive/Data/hosp/prescriptions.csv.gz\",\n",
        "                            compression=\"gzip\",\n",
        "                            usecols=[\"subject_id\", \"hadm_id\", \"drug\", \"dose_val_rx\", \"dose_unit_rx\",\n",
        "                                     \"starttime\", \"stoptime\"],\n",
        "                            nrows=100)"
      ],
      "metadata": {
        "id": "xSYo2bQcU6wx"
      },
      "execution_count": 14,
      "outputs": []
    },
    {
      "cell_type": "code",
      "source": [
        "print(f\"admissions shape: {admissions.shape}\")\n",
        "print(f\"patients shape: {patients.shape}\")\n",
        "print(f\"omr shape: {omr.shape}\")\n",
        "print(f\"labevents shape: {labevents.shape}\")\n",
        "# print(f\"d_labitems shape: {d_labitems.shape}\")\n",
        "print(f\"microbiologyevents shape: {microbiologyevents.shape}\")\n",
        "print(f\"diagnoses_icd shape: {diagnoses_icd.shape}\")\n",
        "print(f\"prescriptions shape: {prescriptions.shape}\")"
      ],
      "metadata": {
        "colab": {
          "base_uri": "https://localhost:8080/"
        },
        "id": "2SeFuoNuZQJO",
        "outputId": "90f6b9a3-fb1d-49ff-e9e6-ca57fd499505"
      },
      "execution_count": 15,
      "outputs": [
        {
          "output_type": "stream",
          "name": "stdout",
          "text": [
            "admissions shape: (100, 9)\n",
            "patients shape: (100, 3)\n",
            "omr shape: (100, 5)\n",
            "labevents shape: (100, 7)\n",
            "microbiologyevents shape: (100, 5)\n",
            "diagnoses_icd shape: (100, 4)\n",
            "prescriptions shape: (100, 7)\n"
          ]
        }
      ]
    },
    {
      "cell_type": "code",
      "source": [
        "database = {\n",
        "    \"admissions\": admissions,\n",
        "    \"patients\": patients,\n",
        "    \"omr\": omr,\n",
        "    \"labevents\": labevents,\n",
        "    \"microbiologyevents\": microbiologyevents,\n",
        "    \"diagnoses_icd\": diagnoses_icd,\n",
        "    \"prescriptions\": prescriptions\n",
        "}\n",
        "\n",
        "for table_name, df in database.items():\n",
        "    print(f\"{table_name} has columns: {df.columns.tolist()}\")\n"
      ],
      "metadata": {
        "colab": {
          "base_uri": "https://localhost:8080/"
        },
        "id": "cymI-15w1UdO",
        "outputId": "8cc6b9b8-e0b0-4712-b3b7-c431398742ea"
      },
      "execution_count": 27,
      "outputs": [
        {
          "output_type": "stream",
          "name": "stdout",
          "text": [
            "admissions has columns: ['subject_id', 'hadm_id', 'admittime', 'admission_type', 'admission_location', 'insurance', 'language', 'marital_status', 'race']\n",
            "patients has columns: ['subject_id', 'gender', 'anchor_age']\n",
            "omr has columns: ['subject_id', 'chartdate', 'seq_num', 'result_name', 'result_value']\n",
            "labevents has columns: ['subject_id', 'hadm_id', 'itemid', 'charttime', 'valuenum', 'valueuom', 'flag']\n",
            "microbiologyevents has columns: ['subject_id', 'hadm_id', 'charttime', 'spec_type_desc', 'org_name']\n",
            "diagnoses_icd has columns: ['subject_id', 'hadm_id', 'icd_code', 'icd_version']\n",
            "prescriptions has columns: ['subject_id', 'hadm_id', 'starttime', 'stoptime', 'drug', 'dose_val_rx', 'dose_unit_rx']\n"
          ]
        }
      ]
    },
    {
      "cell_type": "markdown",
      "source": [
        "### Merging the datasets"
      ],
      "metadata": {
        "id": "fWHdoFFZYAn-"
      }
    },
    {
      "cell_type": "markdown",
      "source": [
        "Starting from the base admissions table, I'm going to:\n",
        "- Create a copy of the base admissions.\n",
        "- Merge admissions copy with patients on `subject_id` with left join.\n",
        "- Merge with diagnoses on `subject_id`.\n",
        "- Merge with prescriptions on `subject_id` and `hadm_id`.\n",
        "- Merge with labevents on `subject_id` and `hadm_id`.\n",
        "- Merge with microbiologyevents on `subject_id` and `hadm_id`.\n",
        "\n",
        "All merges are done with left join to preserve the records in the admissions table."
      ],
      "metadata": {
        "id": "EnaIMIpqZ42m"
      }
    },
    {
      "cell_type": "code",
      "source": [
        "# Start with admissions as the base table\n",
        "dataset = admissions.copy()\n",
        "\n",
        "# Merge with patients using subject_id\n",
        "dataset = dataset.merge(patients, on='subject_id', how='left')\n",
        "\n",
        "# Merge with diagnoses_icd using subject_id and hadm_id\n",
        "dataset = dataset.merge(diagnoses_icd, on=['subject_id', 'hadm_id'], how='left')\n",
        "\n",
        "# Merge with prescriptions using subject_id and hadm_id\n",
        "dataset = dataset.merge(prescriptions, on=['subject_id', 'hadm_id'], how='left')\n",
        "\n",
        "# Merge with labevents using subject_id and hadm_id\n",
        "dataset = dataset.merge(labevents, on=['subject_id', 'hadm_id'], how='left')\n",
        "\n",
        "# Merge with microbiologyevents using subject_id and hadm_id\n",
        "dataset = dataset.merge(microbiologyevents, on=['subject_id', 'hadm_id'], how='left')\n",
        "\n",
        "# Merge with omr using subject_id\n",
        "dataset = dataset.merge(omr, on='subject_id', how='left')"
      ],
      "metadata": {
        "id": "IxXmFuxUXzjg"
      },
      "execution_count": 16,
      "outputs": []
    },
    {
      "cell_type": "markdown",
      "source": [
        "Validate the result\n"
      ],
      "metadata": {
        "id": "ZrRpK4MIFfu2"
      }
    },
    {
      "cell_type": "code",
      "source": [
        "print(\"Shape of merged data:\", dataset.shape)\n",
        "print(\"Missing values in key columns:\")\n",
        "print(dataset[['subject_id', 'hadm_id']].isnull().sum())"
      ],
      "metadata": {
        "colab": {
          "base_uri": "https://localhost:8080/"
        },
        "id": "x9P_B0U3FecF",
        "outputId": "214474ed-acc0-4af6-a40f-d4c322fafba7"
      },
      "execution_count": 17,
      "outputs": [
        {
          "output_type": "stream",
          "name": "stdout",
          "text": [
            "Shape of merged data: (74381, 30)\n",
            "Missing values in key columns:\n",
            "subject_id    0\n",
            "hadm_id       0\n",
            "dtype: int64\n"
          ]
        }
      ]
    },
    {
      "cell_type": "code",
      "source": [
        "dataset.columns"
      ],
      "metadata": {
        "colab": {
          "base_uri": "https://localhost:8080/"
        },
        "id": "D4DBcjGQU33Q",
        "outputId": "2a736eea-c174-49ae-f307-8ef707f1e057"
      },
      "execution_count": 18,
      "outputs": [
        {
          "output_type": "execute_result",
          "data": {
            "text/plain": [
              "Index(['subject_id', 'hadm_id', 'admittime', 'admission_type',\n",
              "       'admission_location', 'insurance', 'language', 'marital_status', 'race',\n",
              "       'gender', 'anchor_age', 'icd_code', 'icd_version', 'starttime',\n",
              "       'stoptime', 'drug', 'dose_val_rx', 'dose_unit_rx', 'itemid',\n",
              "       'charttime_x', 'valuenum', 'valueuom', 'flag', 'charttime_y',\n",
              "       'spec_type_desc', 'org_name', 'chartdate', 'seq_num', 'result_name',\n",
              "       'result_value'],\n",
              "      dtype='object')"
            ]
          },
          "metadata": {},
          "execution_count": 18
        }
      ]
    },
    {
      "cell_type": "code",
      "source": [
        "dataset.shape"
      ],
      "metadata": {
        "colab": {
          "base_uri": "https://localhost:8080/"
        },
        "id": "Tr2gq-lqU6V0",
        "outputId": "44dbe861-c34d-423d-b9ee-848d9d084f4f"
      },
      "execution_count": 19,
      "outputs": [
        {
          "output_type": "execute_result",
          "data": {
            "text/plain": [
              "(74381, 30)"
            ]
          },
          "metadata": {},
          "execution_count": 19
        }
      ]
    },
    {
      "cell_type": "code",
      "source": [
        "dataset.isnull().sum()"
      ],
      "metadata": {
        "colab": {
          "base_uri": "https://localhost:8080/",
          "height": 1000
        },
        "id": "2NPFCSCBxC0o",
        "outputId": "1fca2af8-b02d-4169-9cc8-ef485f8db82b"
      },
      "execution_count": 20,
      "outputs": [
        {
          "output_type": "execute_result",
          "data": {
            "text/plain": [
              "subject_id                0\n",
              "hadm_id                   0\n",
              "admittime                 0\n",
              "admission_type            0\n",
              "admission_location        0\n",
              "insurance                 4\n",
              "language                  0\n",
              "marital_status            1\n",
              "race                      0\n",
              "gender                    0\n",
              "anchor_age                0\n",
              "icd_code                 84\n",
              "icd_version              84\n",
              "starttime               129\n",
              "stoptime                129\n",
              "drug                    129\n",
              "dose_val_rx             129\n",
              "dose_unit_rx            129\n",
              "itemid                74381\n",
              "charttime_x           74381\n",
              "valuenum              74381\n",
              "valueuom              74381\n",
              "flag                  74381\n",
              "charttime_y            4046\n",
              "spec_type_desc         4046\n",
              "org_name              74381\n",
              "chartdate               111\n",
              "seq_num                 111\n",
              "result_name             111\n",
              "result_value            111\n",
              "dtype: int64"
            ],
            "text/html": [
              "<div>\n",
              "<style scoped>\n",
              "    .dataframe tbody tr th:only-of-type {\n",
              "        vertical-align: middle;\n",
              "    }\n",
              "\n",
              "    .dataframe tbody tr th {\n",
              "        vertical-align: top;\n",
              "    }\n",
              "\n",
              "    .dataframe thead th {\n",
              "        text-align: right;\n",
              "    }\n",
              "</style>\n",
              "<table border=\"1\" class=\"dataframe\">\n",
              "  <thead>\n",
              "    <tr style=\"text-align: right;\">\n",
              "      <th></th>\n",
              "      <th>0</th>\n",
              "    </tr>\n",
              "  </thead>\n",
              "  <tbody>\n",
              "    <tr>\n",
              "      <th>subject_id</th>\n",
              "      <td>0</td>\n",
              "    </tr>\n",
              "    <tr>\n",
              "      <th>hadm_id</th>\n",
              "      <td>0</td>\n",
              "    </tr>\n",
              "    <tr>\n",
              "      <th>admittime</th>\n",
              "      <td>0</td>\n",
              "    </tr>\n",
              "    <tr>\n",
              "      <th>admission_type</th>\n",
              "      <td>0</td>\n",
              "    </tr>\n",
              "    <tr>\n",
              "      <th>admission_location</th>\n",
              "      <td>0</td>\n",
              "    </tr>\n",
              "    <tr>\n",
              "      <th>insurance</th>\n",
              "      <td>4</td>\n",
              "    </tr>\n",
              "    <tr>\n",
              "      <th>language</th>\n",
              "      <td>0</td>\n",
              "    </tr>\n",
              "    <tr>\n",
              "      <th>marital_status</th>\n",
              "      <td>1</td>\n",
              "    </tr>\n",
              "    <tr>\n",
              "      <th>race</th>\n",
              "      <td>0</td>\n",
              "    </tr>\n",
              "    <tr>\n",
              "      <th>gender</th>\n",
              "      <td>0</td>\n",
              "    </tr>\n",
              "    <tr>\n",
              "      <th>anchor_age</th>\n",
              "      <td>0</td>\n",
              "    </tr>\n",
              "    <tr>\n",
              "      <th>icd_code</th>\n",
              "      <td>84</td>\n",
              "    </tr>\n",
              "    <tr>\n",
              "      <th>icd_version</th>\n",
              "      <td>84</td>\n",
              "    </tr>\n",
              "    <tr>\n",
              "      <th>starttime</th>\n",
              "      <td>129</td>\n",
              "    </tr>\n",
              "    <tr>\n",
              "      <th>stoptime</th>\n",
              "      <td>129</td>\n",
              "    </tr>\n",
              "    <tr>\n",
              "      <th>drug</th>\n",
              "      <td>129</td>\n",
              "    </tr>\n",
              "    <tr>\n",
              "      <th>dose_val_rx</th>\n",
              "      <td>129</td>\n",
              "    </tr>\n",
              "    <tr>\n",
              "      <th>dose_unit_rx</th>\n",
              "      <td>129</td>\n",
              "    </tr>\n",
              "    <tr>\n",
              "      <th>itemid</th>\n",
              "      <td>74381</td>\n",
              "    </tr>\n",
              "    <tr>\n",
              "      <th>charttime_x</th>\n",
              "      <td>74381</td>\n",
              "    </tr>\n",
              "    <tr>\n",
              "      <th>valuenum</th>\n",
              "      <td>74381</td>\n",
              "    </tr>\n",
              "    <tr>\n",
              "      <th>valueuom</th>\n",
              "      <td>74381</td>\n",
              "    </tr>\n",
              "    <tr>\n",
              "      <th>flag</th>\n",
              "      <td>74381</td>\n",
              "    </tr>\n",
              "    <tr>\n",
              "      <th>charttime_y</th>\n",
              "      <td>4046</td>\n",
              "    </tr>\n",
              "    <tr>\n",
              "      <th>spec_type_desc</th>\n",
              "      <td>4046</td>\n",
              "    </tr>\n",
              "    <tr>\n",
              "      <th>org_name</th>\n",
              "      <td>74381</td>\n",
              "    </tr>\n",
              "    <tr>\n",
              "      <th>chartdate</th>\n",
              "      <td>111</td>\n",
              "    </tr>\n",
              "    <tr>\n",
              "      <th>seq_num</th>\n",
              "      <td>111</td>\n",
              "    </tr>\n",
              "    <tr>\n",
              "      <th>result_name</th>\n",
              "      <td>111</td>\n",
              "    </tr>\n",
              "    <tr>\n",
              "      <th>result_value</th>\n",
              "      <td>111</td>\n",
              "    </tr>\n",
              "  </tbody>\n",
              "</table>\n",
              "</div><br><label><b>dtype:</b> int64</label>"
            ]
          },
          "metadata": {},
          "execution_count": 20
        }
      ]
    },
    {
      "cell_type": "code",
      "source": [
        "dataset[\"itemid\"]"
      ],
      "metadata": {
        "colab": {
          "base_uri": "https://localhost:8080/",
          "height": 458
        },
        "id": "8Pbb72vH1AOY",
        "outputId": "2805ddec-4503-4ed8-ae0e-e9401a7c1d99"
      },
      "execution_count": 22,
      "outputs": [
        {
          "output_type": "execute_result",
          "data": {
            "text/plain": [
              "0       NaN\n",
              "1       NaN\n",
              "2       NaN\n",
              "3       NaN\n",
              "4       NaN\n",
              "         ..\n",
              "74376   NaN\n",
              "74377   NaN\n",
              "74378   NaN\n",
              "74379   NaN\n",
              "74380   NaN\n",
              "Name: itemid, Length: 74381, dtype: float64"
            ],
            "text/html": [
              "<div>\n",
              "<style scoped>\n",
              "    .dataframe tbody tr th:only-of-type {\n",
              "        vertical-align: middle;\n",
              "    }\n",
              "\n",
              "    .dataframe tbody tr th {\n",
              "        vertical-align: top;\n",
              "    }\n",
              "\n",
              "    .dataframe thead th {\n",
              "        text-align: right;\n",
              "    }\n",
              "</style>\n",
              "<table border=\"1\" class=\"dataframe\">\n",
              "  <thead>\n",
              "    <tr style=\"text-align: right;\">\n",
              "      <th></th>\n",
              "      <th>itemid</th>\n",
              "    </tr>\n",
              "  </thead>\n",
              "  <tbody>\n",
              "    <tr>\n",
              "      <th>0</th>\n",
              "      <td>NaN</td>\n",
              "    </tr>\n",
              "    <tr>\n",
              "      <th>1</th>\n",
              "      <td>NaN</td>\n",
              "    </tr>\n",
              "    <tr>\n",
              "      <th>2</th>\n",
              "      <td>NaN</td>\n",
              "    </tr>\n",
              "    <tr>\n",
              "      <th>3</th>\n",
              "      <td>NaN</td>\n",
              "    </tr>\n",
              "    <tr>\n",
              "      <th>4</th>\n",
              "      <td>NaN</td>\n",
              "    </tr>\n",
              "    <tr>\n",
              "      <th>...</th>\n",
              "      <td>...</td>\n",
              "    </tr>\n",
              "    <tr>\n",
              "      <th>74376</th>\n",
              "      <td>NaN</td>\n",
              "    </tr>\n",
              "    <tr>\n",
              "      <th>74377</th>\n",
              "      <td>NaN</td>\n",
              "    </tr>\n",
              "    <tr>\n",
              "      <th>74378</th>\n",
              "      <td>NaN</td>\n",
              "    </tr>\n",
              "    <tr>\n",
              "      <th>74379</th>\n",
              "      <td>NaN</td>\n",
              "    </tr>\n",
              "    <tr>\n",
              "      <th>74380</th>\n",
              "      <td>NaN</td>\n",
              "    </tr>\n",
              "  </tbody>\n",
              "</table>\n",
              "<p>74381 rows × 1 columns</p>\n",
              "</div><br><label><b>dtype:</b> float64</label>"
            ]
          },
          "metadata": {},
          "execution_count": 22
        }
      ]
    },
    {
      "cell_type": "code",
      "source": [
        "dataset.info()"
      ],
      "metadata": {
        "colab": {
          "base_uri": "https://localhost:8080/"
        },
        "id": "v8pHOGoa0WJk",
        "outputId": "6601f831-0f59-4c1d-de29-bc980f95481a"
      },
      "execution_count": 21,
      "outputs": [
        {
          "output_type": "stream",
          "name": "stdout",
          "text": [
            "<class 'pandas.core.frame.DataFrame'>\n",
            "RangeIndex: 74381 entries, 0 to 74380\n",
            "Data columns (total 30 columns):\n",
            " #   Column              Non-Null Count  Dtype  \n",
            "---  ------              --------------  -----  \n",
            " 0   subject_id          74381 non-null  int64  \n",
            " 1   hadm_id             74381 non-null  int64  \n",
            " 2   admittime           74381 non-null  object \n",
            " 3   admission_type      74381 non-null  object \n",
            " 4   admission_location  74381 non-null  object \n",
            " 5   insurance           74377 non-null  object \n",
            " 6   language            74381 non-null  object \n",
            " 7   marital_status      74380 non-null  object \n",
            " 8   race                74381 non-null  object \n",
            " 9   gender              74381 non-null  object \n",
            " 10  anchor_age          74381 non-null  int64  \n",
            " 11  icd_code            74297 non-null  object \n",
            " 12  icd_version         74297 non-null  float64\n",
            " 13  starttime           74252 non-null  object \n",
            " 14  stoptime            74252 non-null  object \n",
            " 15  drug                74252 non-null  object \n",
            " 16  dose_val_rx         74252 non-null  object \n",
            " 17  dose_unit_rx        74252 non-null  object \n",
            " 18  itemid              0 non-null      float64\n",
            " 19  charttime_x         0 non-null      object \n",
            " 20  valuenum            0 non-null      float64\n",
            " 21  valueuom            0 non-null      object \n",
            " 22  flag                0 non-null      object \n",
            " 23  charttime_y         70335 non-null  object \n",
            " 24  spec_type_desc      70335 non-null  object \n",
            " 25  org_name            0 non-null      object \n",
            " 26  chartdate           74270 non-null  object \n",
            " 27  seq_num             74270 non-null  float64\n",
            " 28  result_name         74270 non-null  object \n",
            " 29  result_value        74270 non-null  object \n",
            "dtypes: float64(4), int64(3), object(23)\n",
            "memory usage: 17.0+ MB\n"
          ]
        }
      ]
    },
    {
      "cell_type": "markdown",
      "source": [
        "### Encoding/Scaling"
      ],
      "metadata": {
        "id": "YI-0WAzhUMqd"
      }
    },
    {
      "cell_type": "code",
      "source": [
        "numerical_cols = dataset.select_dtypes(include=[\"number\"]).columns\n",
        "print(\"Numerical columns:\")\n",
        "print(numerical_cols)\n",
        "\n",
        "categorical_cols = dataset.select_dtypes(include=[\"object\", \"category\"]).columns\n",
        "print(\"Categorical columns:\")\n",
        "print(categorical_cols)"
      ],
      "metadata": {
        "colab": {
          "base_uri": "https://localhost:8080/"
        },
        "id": "R1bGnnaUHgMp",
        "outputId": "cbd4a141-0d40-4619-c253-479dccf0c269"
      },
      "execution_count": null,
      "outputs": [
        {
          "output_type": "stream",
          "name": "stdout",
          "text": [
            "Numerical columns:\n",
            "Index(['subject_id', 'hadm_id', 'anchor_age', 'icd_version', 'itemid',\n",
            "       'valuenum', 'seq_num'],\n",
            "      dtype='object')\n",
            "Categorical columns:\n",
            "Index(['admittime', 'admission_type', 'admission_location', 'insurance',\n",
            "       'language', 'marital_status', 'race', 'gender', 'icd_code', 'starttime',\n",
            "       'stoptime', 'drug', 'dose_val_rx', 'dose_unit_rx', 'charttime_x',\n",
            "       'valueuom', 'flag', 'charttime_y', 'spec_type_desc', 'org_name',\n",
            "       'chartdate', 'result_name', 'result_value'],\n",
            "      dtype='object')\n"
          ]
        }
      ]
    },
    {
      "cell_type": "code",
      "source": [
        "for cat_col in categorical_cols:\n",
        "    uniques = dataset[cat_col].unique()\n",
        "    print(f\"{cat_col} has {len(uniques)} unique values\")\n",
        "    print(f\"Examples: {uniques[:15]}\")\n",
        "    print(\"-------------------------------------------\")"
      ],
      "metadata": {
        "colab": {
          "base_uri": "https://localhost:8080/"
        },
        "id": "gBrQpICdbK0s",
        "outputId": "480da06c-181f-4423-a8f3-dcc358d6b131"
      },
      "execution_count": null,
      "outputs": [
        {
          "output_type": "stream",
          "name": "stdout",
          "text": [
            "admittime has 100 unique values\n",
            "Examples: ['2180-05-06 22:23:00' '2180-06-26 18:27:00' '2180-08-05 23:44:00'\n",
            " '2180-07-23 12:35:00' '2160-03-03 23:16:00' '2160-11-21 01:56:00'\n",
            " '2160-12-28 05:11:00' '2163-09-27 23:17:00' '2181-11-15 02:05:00'\n",
            " '2183-09-18 18:10:00' '2163-08-20 01:42:00' '2192-11-30 01:25:00'\n",
            " '2151-03-18 03:28:00' '2189-10-15 10:30:00' '2143-12-23 14:55:00']\n",
            "-------------------------------------------\n",
            "admission_type has 8 unique values\n",
            "Examples: ['URGENT' 'EW EMER.' 'EU OBSERVATION' 'OBSERVATION ADMIT'\n",
            " 'SURGICAL SAME DAY ADMISSION' 'AMBULATORY OBSERVATION' 'DIRECT EMER.'\n",
            " 'DIRECT OBSERVATION']\n",
            "-------------------------------------------\n",
            "admission_location has 8 unique values\n",
            "Examples: ['TRANSFER FROM HOSPITAL' 'EMERGENCY ROOM' 'WALK-IN/SELF REFERRAL'\n",
            " 'PHYSICIAN REFERRAL' 'PROCEDURE SITE' 'CLINIC REFERRAL'\n",
            " 'TRANSFER FROM SKILLED NURSING FACILITY' 'PACU']\n",
            "-------------------------------------------\n",
            "insurance has 4 unique values\n",
            "Examples: ['Medicaid' nan 'Medicare' 'Private']\n",
            "-------------------------------------------\n",
            "language has 2 unique values\n",
            "Examples: ['English' 'Other']\n",
            "-------------------------------------------\n",
            "marital_status has 5 unique values\n",
            "Examples: ['WIDOWED' 'SINGLE' 'MARRIED' 'DIVORCED' nan]\n",
            "-------------------------------------------\n",
            "race has 4 unique values\n",
            "Examples: ['WHITE' 'OTHER' 'BLACK/AFRICAN AMERICAN' 'UNABLE TO OBTAIN']\n",
            "-------------------------------------------\n",
            "gender has 2 unique values\n",
            "Examples: ['F' 'M']\n",
            "-------------------------------------------\n",
            "icd_code has 73 unique values\n",
            "Examples: ['5723' '78959' '5715' '07070' '496' '29680' '30981' 'V1582' '07071'\n",
            " '2875' '2761' 'V08' '3051' '07054' 'V462']\n",
            "-------------------------------------------\n",
            "starttime has 35 unique values\n",
            "Examples: ['2180-05-08 08:00:00' '2180-05-07 02:00:00' '2180-05-07 01:00:00'\n",
            " '2180-05-07 00:00:00' '2180-06-27 08:00:00' '2180-06-26 23:00:00'\n",
            " '2180-06-26 22:00:00' '2180-06-27 18:00:00' '2180-08-06 03:00:00'\n",
            " '2180-08-06 17:00:00' '2180-08-07 08:00:00' '2180-08-06 09:00:00'\n",
            " '2180-08-06 21:00:00' '2180-08-06 20:00:00' '2180-08-06 12:00:00']\n",
            "-------------------------------------------\n",
            "stoptime has 23 unique values\n",
            "Examples: ['2180-05-07 22:00:00' '2180-05-07 09:00:00' '2180-05-07 01:00:00'\n",
            " '2180-06-27 23:00:00' '2180-06-26 22:00:00' '2180-08-07 22:00:00'\n",
            " '2180-08-06 19:00:00' '2180-08-06 11:00:00' '2180-08-06 02:00:00'\n",
            " '2180-07-24 10:00:00' '2180-07-25 22:00:00' '2180-07-24 20:00:00'\n",
            " '2180-07-23 23:00:00' '2180-07-25 09:00:00' nan]\n",
            "-------------------------------------------\n",
            "drug has 43 unique values\n",
            "Examples: ['Furosemide' 'Ipratropium Bromide Neb' 'Potassium Chloride'\n",
            " 'Sodium Chloride 0.9%  Flush' 'Raltegravir' 'Spironolactone'\n",
            " 'Acetaminophen' 'Influenza Vaccine Quadrivalent' 'Albuterol Inhaler'\n",
            " 'Emtricitabine-Tenofovir (Truvada)' 'Heparin' 'Nicotine Patch'\n",
            " 'Rifaximin' 'Calcium Carbonate' 'Albumin 25% (12.5g / 50mL)']\n",
            "-------------------------------------------\n",
            "dose_val_rx has 29 unique values\n",
            "Examples: ['40' '1' '20' '3' '400' '50' '500' '0.5' '2' '5000' '14' '550' '1250'\n",
            " '37.5' '30']\n",
            "-------------------------------------------\n",
            "dose_unit_rx has 12 unique values\n",
            "Examples: ['mg' 'NEB' 'mEq' 'mL' 'PUFF' 'TAB' 'UNIT' 'g' 'CAP' 'BAG' 'gm' nan]\n",
            "-------------------------------------------\n",
            "charttime_x has 1 unique values\n",
            "Examples: [nan]\n",
            "-------------------------------------------\n",
            "valueuom has 1 unique values\n",
            "Examples: [nan]\n",
            "-------------------------------------------\n",
            "flag has 1 unique values\n",
            "Examples: [nan]\n",
            "-------------------------------------------\n",
            "charttime_y has 12 unique values\n",
            "Examples: ['2180-05-07 00:10:00' '2180-05-07 00:19:00' '2180-05-07 10:11:00'\n",
            " '2180-06-26 22:39:00' '2180-06-26 22:45:00' '2180-08-06 20:35:00'\n",
            " '2180-07-23 14:14:00' '2180-07-24 00:55:00' nan '2160-11-21 07:00:00'\n",
            " '2160-11-21 09:30:00' '2189-10-15 13:00:00']\n",
            "-------------------------------------------\n",
            "spec_type_desc has 6 unique values\n",
            "Examples: ['URINE' 'SWAB' 'PERITONEAL FLUID' 'MRSA SCREEN' nan 'BLOOD CULTURE']\n",
            "-------------------------------------------\n",
            "org_name has 1 unique values\n",
            "Examples: [nan]\n",
            "-------------------------------------------\n",
            "chartdate has 43 unique values\n",
            "Examples: ['2180-04-27' '2180-05-07' '2180-05-25' '2180-06-01' '2180-06-22'\n",
            " '2180-06-27' '2180-06-30' '2180-07-09' '2180-08-06' nan '2160-11-21'\n",
            " '2174-10-14' '2175-01-26' '2175-01-27' '2175-03-17']\n",
            "-------------------------------------------\n",
            "result_name has 5 unique values\n",
            "Examples: ['Blood Pressure' 'Weight (Lbs)' 'BMI (kg/m2)' 'Height (Inches)' nan]\n",
            "-------------------------------------------\n",
            "result_value has 68 unique values\n",
            "Examples: ['110/65' '94' '18.0' '60' '92.15' '106/60' '18.6' '95' '121/77' '18.7'\n",
            " '95.7' '100/60' '18.9' '97' '19.2']\n",
            "-------------------------------------------\n"
          ]
        }
      ]
    },
    {
      "cell_type": "markdown",
      "source": [
        "Chart times are represented in year-month-day using strings. I will convert them them to YYYYMM in integers. Where Y is year and M is month."
      ],
      "metadata": {
        "id": "mlxzXFHWeGog"
      }
    },
    {
      "cell_type": "code",
      "source": [
        "# Identify time-related columns\n",
        "time_cols = [col for col in dataset.columns if 'time' in col.lower() or 'date' in col.lower()]\n",
        "print(\"Time columns:\", time_cols)\n",
        "\n",
        "# Check original data\n",
        "print(\"Original sample of time columns:\")\n",
        "for col in time_cols:\n",
        "    print(f\"{col}: {dataset[col].head().tolist()}\")\n",
        "\n",
        "# Convert to datetime and then to YYYYMM\n",
        "for col in time_cols:\n",
        "    # Convert to string to avoid type issues\n",
        "    dataset[col] = dataset[col].astype(str)\n",
        "    # Convert to datetime, coerce invalid values to NaT\n",
        "    dataset[col] = pd.to_datetime(dataset[col], errors=\"coerce\")\n",
        "    # Convert to YYYYMM, fill NaT with 0, cast to int\n",
        "    dataset[col] = (dataset[col].dt.year * 100 + dataset[col].dt.month).fillna(0).astype(int)\n",
        "\n",
        "# Check results\n",
        "print(\"Sample of converted columns:\")\n",
        "print(dataset[time_cols].head())"
      ],
      "metadata": {
        "colab": {
          "base_uri": "https://localhost:8080/"
        },
        "id": "cHxrd1aSa1QT",
        "outputId": "5a84a93d-9611-4e5c-f083-4498d250de6e"
      },
      "execution_count": null,
      "outputs": [
        {
          "output_type": "stream",
          "name": "stdout",
          "text": [
            "Time columns: ['admittime', 'starttime', 'stoptime', 'charttime_x', 'charttime_y', 'chartdate']\n",
            "Original sample of time columns:\n",
            "admittime: ['2180-05-06 22:23:00', '2180-05-06 22:23:00', '2180-05-06 22:23:00', '2180-05-06 22:23:00', '2180-05-06 22:23:00']\n",
            "starttime: ['2180-05-08 08:00:00', '2180-05-08 08:00:00', '2180-05-08 08:00:00', '2180-05-08 08:00:00', '2180-05-08 08:00:00']\n",
            "stoptime: ['2180-05-07 22:00:00', '2180-05-07 22:00:00', '2180-05-07 22:00:00', '2180-05-07 22:00:00', '2180-05-07 22:00:00']\n",
            "charttime_x: [nan, nan, nan, nan, nan]\n",
            "charttime_y: ['2180-05-07 00:10:00', '2180-05-07 00:10:00', '2180-05-07 00:10:00', '2180-05-07 00:10:00', '2180-05-07 00:10:00']\n",
            "chartdate: ['2180-04-27', '2180-04-27', '2180-05-07', '2180-05-07', '2180-05-07']\n",
            "Sample of converted columns:\n",
            "   admittime  starttime  stoptime  charttime_x  charttime_y  chartdate\n",
            "0     218005     218005    218005            0       218005     218004\n",
            "1     218005     218005    218005            0       218005     218004\n",
            "2     218005     218005    218005            0       218005     218005\n",
            "3     218005     218005    218005            0       218005     218005\n",
            "4     218005     218005    218005            0       218005     218005\n"
          ]
        }
      ]
    },
    {
      "cell_type": "markdown",
      "source": [
        "One hot encoding categorical columns except for admission type as it is ordinal.\n",
        "\n",
        "\"admission_type is useful for classifying the urgency of the admission. There are 9 possibilities: ‘AMBULATORY OBSERVATION’, ‘DIRECT EMER.’, ‘DIRECT OBSERVATION’, ‘ELECTIVE’, ‘EU OBSERVATION’, ‘EW EMER.’, ‘OBSERVATION ADMIT’, ‘SURGICAL SAME DAY ADMISSION’, ‘URGENT’.\""
      ],
      "metadata": {
        "id": "MMwnvNO6nTzQ"
      }
    },
    {
      "cell_type": "code",
      "source": [
        "filtered_rows = dataset[\"admission_type\"]\n",
        "\n",
        "filtered_rows.head()"
      ],
      "metadata": {
        "colab": {
          "base_uri": "https://localhost:8080/",
          "height": 241
        },
        "id": "mDv6B8QEtOmb",
        "outputId": "9f21c50a-a8f9-42e7-92ae-47c29743c527"
      },
      "execution_count": null,
      "outputs": [
        {
          "output_type": "execute_result",
          "data": {
            "text/plain": [
              "0    URGENT\n",
              "1    URGENT\n",
              "2    URGENT\n",
              "3    URGENT\n",
              "4    URGENT\n",
              "Name: admission_type, dtype: object"
            ],
            "text/html": [
              "<div>\n",
              "<style scoped>\n",
              "    .dataframe tbody tr th:only-of-type {\n",
              "        vertical-align: middle;\n",
              "    }\n",
              "\n",
              "    .dataframe tbody tr th {\n",
              "        vertical-align: top;\n",
              "    }\n",
              "\n",
              "    .dataframe thead th {\n",
              "        text-align: right;\n",
              "    }\n",
              "</style>\n",
              "<table border=\"1\" class=\"dataframe\">\n",
              "  <thead>\n",
              "    <tr style=\"text-align: right;\">\n",
              "      <th></th>\n",
              "      <th>admission_type</th>\n",
              "    </tr>\n",
              "  </thead>\n",
              "  <tbody>\n",
              "    <tr>\n",
              "      <th>0</th>\n",
              "      <td>URGENT</td>\n",
              "    </tr>\n",
              "    <tr>\n",
              "      <th>1</th>\n",
              "      <td>URGENT</td>\n",
              "    </tr>\n",
              "    <tr>\n",
              "      <th>2</th>\n",
              "      <td>URGENT</td>\n",
              "    </tr>\n",
              "    <tr>\n",
              "      <th>3</th>\n",
              "      <td>URGENT</td>\n",
              "    </tr>\n",
              "    <tr>\n",
              "      <th>4</th>\n",
              "      <td>URGENT</td>\n",
              "    </tr>\n",
              "  </tbody>\n",
              "</table>\n",
              "</div><br><label><b>dtype:</b> object</label>"
            ]
          },
          "metadata": {},
          "execution_count": 13
        }
      ]
    },
    {
      "cell_type": "code",
      "source": [
        "from sklearn.preprocessing import OrdinalEncoder\n",
        "\n",
        "# One hot encode all categorical columns except for admission type as it is ordinal.\n",
        "one_hot_cols = [col for col in categorical_cols if col != 'admission_type']\n",
        "\n",
        "admission_order = ['AMBULATORY OBSERVATION', 'DIRECT EMER.', 'DIRECT OBSERVATION','ELECTIVE',\n",
        "                   'EU OBSERVATION', 'EW EMER.', 'OBSERVATION ADMIT', 'SURGICAL SAME DAY ADMISSION', 'URGENT']\n",
        "ordinal_encoder = OrdinalEncoder(categories=[admission_order])\n",
        "dataset['admission_type_encoded'] = ordinal_encoder.fit_transform(dataset[['admission_type']]).ravel()\n",
        "\n",
        "dataset = dataset.drop('admission_type', axis=1)\n",
        "\n",
        "dataset_encoded = pd.get_dummies(dataset, columns=one_hot_cols)"
      ],
      "metadata": {
        "id": "kt1IPZs4f_DE"
      },
      "execution_count": null,
      "outputs": []
    },
    {
      "cell_type": "code",
      "source": [
        "filtered_rows = dataset[\"admission_type_encoded\"]\n",
        "\n",
        "filtered_rows.head()"
      ],
      "metadata": {
        "colab": {
          "base_uri": "https://localhost:8080/",
          "height": 241
        },
        "id": "fh7DaF1KoYCb",
        "outputId": "c0a0ed3e-748b-4317-b0f8-3f6af7db4722"
      },
      "execution_count": null,
      "outputs": [
        {
          "output_type": "execute_result",
          "data": {
            "text/plain": [
              "0    8.0\n",
              "1    8.0\n",
              "2    8.0\n",
              "3    8.0\n",
              "4    8.0\n",
              "Name: admission_type_encoded, dtype: float64"
            ],
            "text/html": [
              "<div>\n",
              "<style scoped>\n",
              "    .dataframe tbody tr th:only-of-type {\n",
              "        vertical-align: middle;\n",
              "    }\n",
              "\n",
              "    .dataframe tbody tr th {\n",
              "        vertical-align: top;\n",
              "    }\n",
              "\n",
              "    .dataframe thead th {\n",
              "        text-align: right;\n",
              "    }\n",
              "</style>\n",
              "<table border=\"1\" class=\"dataframe\">\n",
              "  <thead>\n",
              "    <tr style=\"text-align: right;\">\n",
              "      <th></th>\n",
              "      <th>admission_type_encoded</th>\n",
              "    </tr>\n",
              "  </thead>\n",
              "  <tbody>\n",
              "    <tr>\n",
              "      <th>0</th>\n",
              "      <td>8.0</td>\n",
              "    </tr>\n",
              "    <tr>\n",
              "      <th>1</th>\n",
              "      <td>8.0</td>\n",
              "    </tr>\n",
              "    <tr>\n",
              "      <th>2</th>\n",
              "      <td>8.0</td>\n",
              "    </tr>\n",
              "    <tr>\n",
              "      <th>3</th>\n",
              "      <td>8.0</td>\n",
              "    </tr>\n",
              "    <tr>\n",
              "      <th>4</th>\n",
              "      <td>8.0</td>\n",
              "    </tr>\n",
              "  </tbody>\n",
              "</table>\n",
              "</div><br><label><b>dtype:</b> float64</label>"
            ]
          },
          "metadata": {},
          "execution_count": 15
        }
      ]
    },
    {
      "cell_type": "markdown",
      "source": [
        "See the max and min of numerical features"
      ],
      "metadata": {
        "id": "_1K_LC0Bt_Z0"
      }
    },
    {
      "cell_type": "code",
      "source": [
        "# # Print min and max for each numerical column\n",
        "# for col in numerical_cols.columns:\n",
        "#     print(f\"{col}: min = {numerical_cols[col].min()}, max = {numerical_cols[col].max()}\")\n"
      ],
      "metadata": {
        "id": "BNoQGq_xomkS"
      },
      "execution_count": null,
      "outputs": []
    },
    {
      "cell_type": "code",
      "source": [
        "dataset_encoded.drop([\"subject_id\", \"hadm_id\"], axis=1, inplace=True)"
      ],
      "metadata": {
        "id": "-8pnKo7BuESy"
      },
      "execution_count": null,
      "outputs": []
    },
    {
      "cell_type": "code",
      "source": [
        "dataset_encoded.shape"
      ],
      "metadata": {
        "colab": {
          "base_uri": "https://localhost:8080/"
        },
        "id": "WSiQO1RzwL8a",
        "outputId": "2acdb28c-d5e0-4660-dc50-a5c2345d7cac"
      },
      "execution_count": null,
      "outputs": [
        {
          "output_type": "execute_result",
          "data": {
            "text/plain": [
              "(74381, 402)"
            ]
          },
          "metadata": {},
          "execution_count": 18
        }
      ]
    },
    {
      "cell_type": "markdown",
      "source": [
        "Scaling numerical data"
      ],
      "metadata": {
        "id": "HtuzVkAtzq15"
      }
    },
    {
      "cell_type": "code",
      "source": [
        "# from sklearn.preprocessing import StandardScaler\n",
        "\n",
        "# scaler = StandardScaler()\n",
        "# dataset_scaled = dataset_encoded.copy()\n",
        "# dataset_scaled[numerical_cols] = scaler.fit_transform(dataset_scaled[numerical_cols])\n",
        "# print(dataset_scaled[numerical_cols].agg([\"mean\",\"std\"]).round(3))"
      ],
      "metadata": {
        "id": "TJigpaMiwZC1"
      },
      "execution_count": null,
      "outputs": []
    },
    {
      "cell_type": "code",
      "source": [],
      "metadata": {
        "id": "Fqra2Tk41EEe"
      },
      "execution_count": null,
      "outputs": []
    }
  ]
}